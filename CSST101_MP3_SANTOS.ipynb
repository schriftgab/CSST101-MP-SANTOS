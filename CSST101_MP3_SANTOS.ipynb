{
  "nbformat": 4,
  "nbformat_minor": 0,
  "metadata": {
    "colab": {
      "provenance": []
    },
    "kernelspec": {
      "name": "python3",
      "display_name": "Python 3"
    },
    "language_info": {
      "name": "python"
    }
  },
  "cells": [
    {
      "cell_type": "markdown",
      "source": [
        "# **Part 1: Implement Basic Probability Calculations**"
      ],
      "metadata": {
        "id": "Ak6zvAZiHxXb"
      }
    },
    {
      "cell_type": "code",
      "execution_count": 1,
      "metadata": {
        "colab": {
          "base_uri": "https://localhost:8080/"
        },
        "id": "j-n74oRnG8mJ",
        "outputId": "12b5af03-db91-4655-c02e-3b8e75f43156"
      },
      "outputs": [
        {
          "output_type": "stream",
          "name": "stdout",
          "text": [
            "Enter probability of event A (between 0 and 1): 1\n",
            "Enter probability of event B (between 0 and 1): 0\n",
            "Joint Probability P(A and B): 0.0\n",
            "Marginal Probability P(A): 1.0\n",
            "Conditional Probability P(A|B): 0\n"
          ]
        }
      ],
      "source": [
        "def joint_probability(p_a, p_b):\n",
        "    return p_a * p_b\n",
        "\n",
        "def marginal_probability(p_a, p_b):\n",
        "    return p_a + p_b - joint_probability(p_a, p_b)\n",
        "\n",
        "def conditional_probability(p_a, p_b):\n",
        "    return joint_probability(p_a, p_b) / p_b if p_b > 0 else 0\n",
        "\n",
        "# Interactive Component\n",
        "p_a = float(input(\"Enter probability of event A (between 0 and 1): \"))\n",
        "p_b = float(input(\"Enter probability of event B (between 0 and 1): \"))\n",
        "\n",
        "print(f\"Joint Probability P(A and B): {joint_probability(p_a, p_b)}\")\n",
        "print(f\"Marginal Probability P(A): {marginal_probability(p_a, p_b)}\")\n",
        "print(f\"Conditional Probability P(A|B): {conditional_probability(p_a, p_b)}\")"
      ]
    },
    {
      "cell_type": "markdown",
      "source": [
        "# **Part 2: Bayesian Inference for Real-World Scenarios**"
      ],
      "metadata": {
        "id": "OINNXlUyH3_Q"
      }
    },
    {
      "cell_type": "code",
      "source": [
        "def bayesian_inference(prior, likelihood, evidence):\n",
        "    return (likelihood * prior) / evidence if evidence > 0 else 0\n",
        "\n",
        "# Interactive Component\n",
        "prior = float(input(\"Enter prior probability of disease (between 0 and 1): \"))\n",
        "likelihood = float(input(\"Enter likelihood of positive test given disease (between 0 and 1): \"))\n",
        "evidence = float(input(\"Enter overall probability of positive test (between 0 and 1): \"))\n",
        "\n",
        "posterior = bayesian_inference(prior, likelihood, evidence)\n",
        "print(f\"Posterior Probability of having the disease: {posterior}\")"
      ],
      "metadata": {
        "colab": {
          "base_uri": "https://localhost:8080/"
        },
        "id": "atM-wnquHh4p",
        "outputId": "d1227d20-ff7b-4704-e3ae-5a5941fd7b15"
      },
      "execution_count": 2,
      "outputs": [
        {
          "output_type": "stream",
          "name": "stdout",
          "text": [
            "Enter prior probability of disease (between 0 and 1): 0.1\n",
            "Enter likelihood of positive test given disease (between 0 and 1): 0.9\n",
            "Enter overall probability of positive test (between 0 and 1): 0.05\n",
            "Posterior Probability of having the disease: 1.8\n"
          ]
        }
      ]
    },
    {
      "cell_type": "markdown",
      "source": [
        "# **Part 3: Simulate Decision-Making Under Uncertainty**"
      ],
      "metadata": {
        "id": "V5F7jMM6IANe"
      }
    },
    {
      "cell_type": "code",
      "source": [
        "import numpy as np\n",
        "\n",
        "def decision_simulation(prob_success, reward, penalty, trials):\n",
        "    outcomes = np.random.rand(trials) < prob_success\n",
        "    returns = np.where(outcomes, reward, -penalty)\n",
        "    return np.mean(returns)\n",
        "\n",
        "# Interactive Component\n",
        "prob_success = float(input(\"Enter probability of success (between 0 and 1): \"))\n",
        "reward = float(input(\"Enter reward amount for success: \"))\n",
        "penalty = float(input(\"Enter penalty amount for failure: \"))\n",
        "trials = int(input(\"Enter number of trials: \"))\n",
        "\n",
        "average_return = decision_simulation(prob_success, reward, penalty, trials)\n",
        "print(f\"Average return after {trials} trials: {average_return}\")"
      ],
      "metadata": {
        "colab": {
          "base_uri": "https://localhost:8080/"
        },
        "id": "jKrISfSqHrKL",
        "outputId": "350d7bbb-212d-43b0-f2a1-679b0393c97d"
      },
      "execution_count": 3,
      "outputs": [
        {
          "output_type": "stream",
          "name": "stdout",
          "text": [
            "Enter probability of success (between 0 and 1): 0.7\n",
            "Enter reward amount for success: 1000\n",
            "Enter penalty amount for failure: -500\n",
            "Enter number of trials: 1000\n",
            "Average return after 1000 trials: 853.0\n"
          ]
        }
      ]
    },
    {
      "cell_type": "markdown",
      "source": [
        "# **Part 4: Visualize Probability Distributions**"
      ],
      "metadata": {
        "id": "9BWrstdqIJkr"
      }
    },
    {
      "cell_type": "code",
      "source": [
        "import matplotlib.pyplot as plt\n",
        "import seaborn as sns\n",
        "\n",
        "def visualize_distribution(distribution_type):\n",
        "    if distribution_type == 'binomial':\n",
        "        n = int(input(\"Enter number of trials for binomial distribution: \"))\n",
        "        p = float(input(\"Enter probability of success (between 0 and 1): \"))\n",
        "        data = np.random.binomial(n, p, size=1000)\n",
        "        sns.histplot(data, bins=30)\n",
        "        plt.title('Binomial Distribution')\n",
        "        plt.xlabel('Number of Successes')\n",
        "        plt.ylabel('Frequency')\n",
        "        plt.show()\n",
        "    elif distribution_type == 'normal':\n",
        "        mu = float(input(\"Enter mean for normal distribution: \"))\n",
        "        sigma = float(input(\"Enter standard deviation for normal distribution: \"))\n",
        "        data = np.random.normal(mu, sigma, size=1000)\n",
        "        sns.histplot(data, bins=30)\n",
        "        plt.title('Normal Distribution')\n",
        "        plt.xlabel('Value')\n",
        "        plt.ylabel('Frequency')\n",
        "        plt.show()\n",
        "\n",
        "# Interactive Component\n",
        "dist_type = input(\"Choose distribution to visualize (binomial/normal): \")\n",
        "visualize_distribution(dist_type)"
      ],
      "metadata": {
        "colab": {
          "base_uri": "https://localhost:8080/",
          "height": 524
        },
        "id": "V0RLk0mZHs-S",
        "outputId": "7e562e65-1ff5-4a4c-8ee4-64ac54e83ca5"
      },
      "execution_count": 5,
      "outputs": [
        {
          "name": "stdout",
          "output_type": "stream",
          "text": [
            "Choose distribution to visualize (binomial/normal): binomial\n",
            "Enter number of trials for binomial distribution: 1000\n",
            "Enter probability of success (between 0 and 1): 0.5\n"
          ]
        },
        {
          "output_type": "display_data",
          "data": {
            "text/plain": [
              "<Figure size 640x480 with 1 Axes>"
            ],
            "image/png": "[encoded data removed]"
          },
          "metadata": {}
        }
      ]
    },
    {
      "cell_type": "markdown",
      "source": [
        "# **Part 5: Real-World Scenario Prediction**"
      ],
      "metadata": {
        "id": "6s0ieMfNIMxT"
      }
    },
    {
      "cell_type": "code",
      "source": [
        "def predict_rain(humidity, cloud_cover):\n",
        "        return humidity * 0.7 + cloud_cover * 0.3\n",
        "\n",
        "# Interactive Component\n",
        "humidity = float(input(\"Enter humidity level (between 0 and 1): \"))\n",
        "cloud_cover = float(input(\"Enter cloud cover percentage (between 0 and 1): \"))\n",
        "\n",
        "rain_probability = predict_rain(humidity, cloud_cover)\n",
        "print(f\"Probability of rain: {rain_probability * 100:.2f}%\")\n",
        "\n",
        "if rain_probability > 0.7:\n",
        "    print(\"It's likely to rain. You might want to carry an umbrella!\")\n",
        "elif rain_probability > 0.3:\n",
        "    print(\"There's a chance of rain. Be prepared just in case.\")\n",
        "else:\n",
        "    print(\"It's unlikely to rain today.\")"
      ],
      "metadata": {
        "id": "_d6k-l9BHu5h"
      },
      "execution_count": null,
      "outputs": []
    }
  ]
}